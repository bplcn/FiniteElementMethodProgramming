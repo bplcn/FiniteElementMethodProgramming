{
 "cells": [
  {
   "cell_type": "markdown",
   "id": "42c13b57-5529-4926-b791-a56d40e1f1eb",
   "metadata": {},
   "source": [
    "# Nonlinear Bar"
   ]
  }
 ],
 "metadata": {
  "kernelspec": {
   "display_name": "Julia 1.9.4",
   "language": "julia",
   "name": "julia-1.9"
  },
  "language_info": {
   "file_extension": ".jl",
   "mimetype": "application/julia",
   "name": "julia",
   "version": "1.9.4"
  }
 },
 "nbformat": 4,
 "nbformat_minor": 5
}

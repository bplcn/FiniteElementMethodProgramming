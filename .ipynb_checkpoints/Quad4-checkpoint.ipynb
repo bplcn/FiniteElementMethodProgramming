{
 "cells": [
  {
   "cell_type": "code",
   "execution_count": null,
   "id": "dcd363df-a225-414c-8ea5-8ffdb7b1f664",
   "metadata": {},
   "outputs": [],
   "source": []
  }
 ],
 "metadata": {
  "kernelspec": {
   "display_name": "Julia 1.9.4",
   "language": "julia",
   "name": "julia-1.9"
  },
  "language_info": {
   "file_extension": ".jl",
   "mimetype": "application/julia",
   "name": "julia",
   "version": "1.9.4"
  }
 },
 "nbformat": 4,
 "nbformat_minor": 5
}
